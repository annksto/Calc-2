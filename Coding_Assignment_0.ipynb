{
  "nbformat": 4,
  "nbformat_minor": 0,
  "metadata": {
    "colab": {
      "provenance": [],
      "authorship_tag": "ABX9TyOiKKEATB92Al5T8oQjDC9o",
      "include_colab_link": true
    },
    "kernelspec": {
      "name": "python3",
      "display_name": "Python 3"
    },
    "language_info": {
      "name": "python"
    }
  },
  "cells": [
    {
      "cell_type": "markdown",
      "metadata": {
        "id": "view-in-github",
        "colab_type": "text"
      },
      "source": [
        "<a href=\"https://colab.research.google.com/github/annksto/Calc-2/blob/main/Coding_Assignment_0.ipynb\" target=\"_parent\"><img src=\"https://colab.research.google.com/assets/colab-badge.svg\" alt=\"Open In Colab\"/></a>"
      ]
    },
    {
      "cell_type": "markdown",
      "source": [
        "#Anna Stone\n",
        "##MATH-3025-01\n",
        "###Coding Assignment 0"
      ],
      "metadata": {
        "id": "CrPvvsOcU4zc"
      }
    },
    {
      "cell_type": "markdown",
      "source": [
        "$$f(x)=x^3+x^2$$\n",
        "\n",
        "This is my favorite function because I like how it looks on a graph and I like taking the integral.\n",
        "\n"
      ],
      "metadata": {
        "id": "5GP5OdfxXmha"
      }
    },
    {
      "cell_type": "code",
      "source": [
        "import sympy\n",
        "\n",
        "x = sympy.Symbol(\"x\")\n",
        "\n",
        "f = x**3+x**2\n",
        "\n",
        "f.diff(x)\n",
        "\n",
        "f.integrate(x)\n",
        "\n",
        "sympy.integrate(f,(x,-1,0))"
      ],
      "metadata": {
        "colab": {
          "base_uri": "https://localhost:8080/",
          "height": 51
        },
        "id": "D3t79jKgVzi0",
        "outputId": "d4838ef7-d5f5-4562-efb2-3dddd233a825"
      },
      "execution_count": 8,
      "outputs": [
        {
          "output_type": "execute_result",
          "data": {
            "text/plain": [
              "1/12"
            ],
            "text/latex": "$\\displaystyle \\frac{1}{12}$"
          },
          "metadata": {},
          "execution_count": 8
        }
      ]
    }
  ]
}