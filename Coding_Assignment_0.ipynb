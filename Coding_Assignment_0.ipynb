{
  "nbformat": 4,
  "nbformat_minor": 0,
  "metadata": {
    "colab": {
      "provenance": [],
      "authorship_tag": "ABX9TyNxJ+DStT/OYHMpv6Etj+U1",
      "include_colab_link": true
    },
    "kernelspec": {
      "name": "python3",
      "display_name": "Python 3"
    },
    "language_info": {
      "name": "python"
    }
  },
  "cells": [
    {
      "cell_type": "markdown",
      "metadata": {
        "id": "view-in-github",
        "colab_type": "text"
      },
      "source": [
        "<a href=\"https://colab.research.google.com/github/annksto/Calc-2/blob/main/Coding_Assignment_0.ipynb\" target=\"_parent\"><img src=\"https://colab.research.google.com/assets/colab-badge.svg\" alt=\"Open In Colab\"/></a>"
      ]
    },
    {
      "cell_type": "markdown",
      "source": [
        "#Anna Stone\n",
        "##MATH-3025-01\n",
        "###Coding Assignment 0"
      ],
      "metadata": {
        "id": "CrPvvsOcU4zc"
      }
    },
    {
      "cell_type": "markdown",
      "source": [
        "$$f(x)=x^3+x^2$$\n",
        "\n",
        "This is my favorite function because I like how it looks on a graph and I like taking the integral.\n",
        "\n"
      ],
      "metadata": {
        "id": "5GP5OdfxXmha"
      }
    },
    {
      "cell_type": "code",
      "source": [
        "import sympy\n",
        "\n",
        "x = sympy.Symbol(\"x\")\n",
        "f = x**3 + x**2\n",
        "\n",
        "print(f\"f(0) = {f.subs(x, 0)}\")\n",
        "print(f\"f(1) = {f.subs(x, 1)}\")\n",
        "print(f\"f(-1) = {f.subs(x, -1)}\")\n",
        "print(f\"f(2) = {f.subs(x, 2)}\")"
      ],
      "metadata": {
        "colab": {
          "base_uri": "https://localhost:8080/"
        },
        "id": "-7DFov_JaFce",
        "outputId": "1333658d-4412-4361-b790-b8b969893956"
      },
      "execution_count": 21,
      "outputs": [
        {
          "output_type": "stream",
          "name": "stdout",
          "text": [
            "f(0) = 0\n",
            "f(1) = 2\n",
            "f(-1) = 0\n",
            "f(2) = 12\n"
          ]
        }
      ]
    },
    {
      "cell_type": "code",
      "source": [
        "import sympy\n",
        "\n",
        "x = sympy.Symbol(\"x\")\n",
        "f = x**3+x**2\n",
        "\n",
        "f.diff(x)"
      ],
      "metadata": {
        "colab": {
          "base_uri": "https://localhost:8080/",
          "height": 38
        },
        "id": "Jo5glpbyYWnM",
        "outputId": "4ac598dc-0fd1-4bc3-ca25-b0eb7acceef5"
      },
      "execution_count": 9,
      "outputs": [
        {
          "output_type": "execute_result",
          "data": {
            "text/plain": [
              "3*x**2 + 2*x"
            ],
            "text/latex": "$\\displaystyle 3 x^{2} + 2 x$"
          },
          "metadata": {},
          "execution_count": 9
        }
      ]
    },
    {
      "cell_type": "code",
      "source": [
        "import sympy\n",
        "\n",
        "x = sympy.Symbol(\"x\")\n",
        "f = x**3+x**2\n",
        "\n",
        "f.diff(x)\n",
        "\n",
        "sympy.diff(x**3+x**2,x)\n",
        "\n",
        "f.integrate(x)\n",
        "\n",
        "sympy.integrate(f,(x,-1,0))"
      ],
      "metadata": {
        "colab": {
          "base_uri": "https://localhost:8080/",
          "height": 51
        },
        "id": "D3t79jKgVzi0",
        "outputId": "ca1fe51d-b389-4a7d-fd49-01e0d52753b3"
      },
      "execution_count": 8,
      "outputs": [
        {
          "output_type": "execute_result",
          "data": {
            "text/plain": [
              "1/12"
            ],
            "text/latex": "$\\displaystyle \\frac{1}{12}$"
          },
          "metadata": {},
          "execution_count": 8
        }
      ]
    }
  ]
}