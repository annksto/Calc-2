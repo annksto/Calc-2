{
  "nbformat": 4,
  "nbformat_minor": 0,
  "metadata": {
    "colab": {
      "provenance": [],
      "authorship_tag": "ABX9TyPVajlitvGdEYCioFpp/8mm",
      "include_colab_link": true
    },
    "kernelspec": {
      "name": "python3",
      "display_name": "Python 3"
    },
    "language_info": {
      "name": "python"
    }
  },
  "cells": [
    {
      "cell_type": "markdown",
      "metadata": {
        "id": "view-in-github",
        "colab_type": "text"
      },
      "source": [
        "<a href=\"https://colab.research.google.com/github/annksto/Calc-2/blob/main/Coding_Assignment_2.ipynb\" target=\"_parent\"><img src=\"https://colab.research.google.com/assets/colab-badge.svg\" alt=\"Open In Colab\"/></a>"
      ]
    },
    {
      "cell_type": "markdown",
      "source": [
        "# #1"
      ],
      "metadata": {
        "id": "Rt1vWsk59Q8r"
      }
    },
    {
      "cell_type": "code",
      "execution_count": 1,
      "metadata": {
        "colab": {
          "base_uri": "https://localhost:8080/"
        },
        "id": "VFKCYJ1p7aQB",
        "outputId": "d98903ae-e7b2-442f-e593-dc40c7326b50"
      },
      "outputs": [
        {
          "output_type": "stream",
          "name": "stdout",
          "text": [
            "(22098*x + 48935)/(260015*(x**2 + x + 5)) + 24110/(4879*(5*x + 2)) - 9438/(80155*(3*x - 7)) - 668/(323*(2*x + 1))\n"
          ]
        }
      ],
      "source": [
        "from sympy import apart, symbols\n",
        "\n",
        "x = symbols('x')\n",
        "h = (4*x**3 - 27*x**2 + 5*x - 32) / (30*x**5 - 13*x**4 + 50*x**3 - 286*x**2 - 299*x - 70)\n",
        "\n",
        "partial_fraction = apart(h, x)\n",
        "print(partial_fraction)"
      ]
    },
    {
      "cell_type": "code",
      "metadata": {
        "colab": {
          "base_uri": "https://localhost:8080/"
        },
        "id": "7d55cfc8",
        "outputId": "b4ed3101-1575-4d59-d97c-293a18e8610a"
      },
      "source": [
        "from sympy import integrate\n",
        "\n",
        "integral = integrate(partial_fraction, x)\n",
        "print(integral)"
      ],
      "execution_count": 2,
      "outputs": [
        {
          "output_type": "stream",
          "name": "stdout",
          "text": [
            "-3146*log(x - 7/3)/80155 + 4822*log(x + 2/5)/4879 - 334*log(x + 1/2)/323 + 11049*log(x**2 + x + 5)/260015 + 3988*sqrt(19)*atan(2*sqrt(19)*x/19 + sqrt(19)/19)/260015\n"
          ]
        }
      ]
    },
    {
      "cell_type": "code",
      "metadata": {
        "colab": {
          "base_uri": "https://localhost:8080/"
        },
        "id": "5457047e",
        "outputId": "3aad2897-55ce-4ef0-cecf-f8147474769b"
      },
      "source": [
        "from sympy import integrate\n",
        "\n",
        "integral_original = integrate(h, x)\n",
        "print(integral_original)"
      ],
      "execution_count": 3,
      "outputs": [
        {
          "output_type": "stream",
          "name": "stdout",
          "text": [
            "-3146*log(x - 7/3)/80155 + 4822*log(x + 2/5)/4879 - 334*log(x + 1/2)/323 + 11049*log(x**2 + x + 5)/260015 + 3988*sqrt(19)*atan(2*sqrt(19)*x/19 + sqrt(19)/19)/260015\n"
          ]
        }
      ]
    },
    {
      "cell_type": "markdown",
      "source": [
        "There do not seem to be any discrepancies between the two way of integrating this function. Integrating the original and the partial fraction decomposition yielded the same result."
      ],
      "metadata": {
        "id": "aSiRr2Ub85pS"
      }
    },
    {
      "cell_type": "markdown",
      "source": [
        "# #2"
      ],
      "metadata": {
        "id": "mDOATOUN9bh-"
      }
    },
    {
      "cell_type": "code",
      "source": [],
      "metadata": {
        "id": "_7-4QOtz-Ke0"
      },
      "execution_count": null,
      "outputs": []
    },
    {
      "cell_type": "code",
      "metadata": {
        "colab": {
          "base_uri": "https://localhost:8080/"
        },
        "id": "edd5fa20",
        "outputId": "9ec2d4b6-3198-4f66-8e7f-061d3b505ebf"
      },
      "source": [
        "from sympy import integrate, symbols, Integer\n",
        "\n",
        "x = symbols('x')\n",
        "g = Integer(1)\n",
        "\n",
        "t_values = [2, 5, 10, 100, 1000, 10000]\n",
        "\n",
        "for t in t_values:\n",
        "  definite_integral = integrate(g, (x, 1, t))\n",
        "  print(f\"Integral of g(x) from 1 to {t}: {definite_integral}\")"
      ],
      "execution_count": 7,
      "outputs": [
        {
          "output_type": "stream",
          "name": "stdout",
          "text": [
            "Integral of g(x) from 1 to 2: 1\n",
            "Integral of g(x) from 1 to 5: 4\n",
            "Integral of g(x) from 1 to 10: 9\n",
            "Integral of g(x) from 1 to 100: 99\n",
            "Integral of g(x) from 1 to 1000: 999\n",
            "Integral of g(x) from 1 to 10000: 9999\n"
          ]
        }
      ]
    },
    {
      "cell_type": "markdown",
      "source": [
        "If t were to approach infinity, our answer would also become infinity as it would keep getting larger."
      ],
      "metadata": {
        "id": "VVoAL94d-0RH"
      }
    },
    {
      "cell_type": "code",
      "metadata": {
        "colab": {
          "base_uri": "https://localhost:8080/",
          "height": 484
        },
        "id": "6a835562",
        "outputId": "898e72bb-e50a-4ad9-99a8-5a1a03b1aba9"
      },
      "source": [
        "from sympy.plotting import plot\n",
        "from sympy import symbols\n",
        "\n",
        "x = symbols('x')\n",
        "f = 1/x**2\n",
        "g = 1\n",
        "\n",
        "plot(f, g, (x, -5, 5), legend=True, show=False).show()"
      ],
      "execution_count": 9,
      "outputs": [
        {
          "output_type": "display_data",
          "data": {
            "text/plain": [
              "<Figure size 640x480 with 1 Axes>"
            ],
            "image/png": "[encoded data removed]"
          },
          "metadata": {}
        }
      ]
    },
    {
      "cell_type": "markdown",
      "metadata": {
        "id": "f0275c14"
      },
      "source": [
        "**Convergence of the Integral of 1/x²**\n",
        "\n",
        "The integral of the form $\\int_a^\\infty \\frac{1}{x^p} dx$ is known as a **p-series integral**. The convergence of such an integral depends on the value of $p$.\n",
        "\n",
        "*   If $p > 1$, the integral $\\int_a^\\infty \\frac{1}{x^p} dx$ **converges**.\n",
        "*   If $p \\le 1$, the integral $\\int_a^\\infty \\frac{1}{x^p} dx$ **diverges**.\n",
        "\n",
        "In your case, you are interested in the integral of $1/x^2$, which is in the form $\\int_a^\\infty \\frac{1}{x^p} dx$ with $p = 2$.\n",
        "\n",
        "Since $p = 2$ and $2 > 1$, the integral $\\int_1^\\infty \\frac{1}{x^2} dx$ **converges**.\n",
        "\n",
        "This means that the area under the curve of $y = 1/x^2$ from $x=1$ to infinity is a finite value."
      ]
    },
    {
      "cell_type": "markdown",
      "source": [
        "I keep getting divergent for g(x), I don't know."
      ],
      "metadata": {
        "id": "bGpbGTiNDVAx"
      }
    },
    {
      "cell_type": "markdown",
      "source": [
        "# #3"
      ],
      "metadata": {
        "id": "cUqF-4PxAxI4"
      }
    },
    {
      "cell_type": "code",
      "metadata": {
        "colab": {
          "base_uri": "https://localhost:8080/",
          "height": 502
        },
        "id": "dynhg2OOBKf9",
        "outputId": "43dc4db9-e7e9-4ff4-eafb-58f0949c7ba3"
      },
      "source": [
        "from sympy.plotting import plot\n",
        "from sympy import symbols, log\n",
        "\n",
        "x = symbols('x')\n",
        "y = log(x)\n",
        "\n",
        "plot(y, (x, 1, 2), title='y = loge(x) from (1,0) to (2, loge2)', xlabel='x', ylabel='y')"
      ],
      "execution_count": 10,
      "outputs": [
        {
          "output_type": "display_data",
          "data": {
            "text/plain": [
              "<Figure size 640x480 with 1 Axes>"
            ],
            "image/png": "[encoded data removed]"
          },
          "metadata": {}
        },
        {
          "output_type": "execute_result",
          "data": {
            "text/plain": [
              "<sympy.plotting.backends.matplotlibbackend.matplotlib.MatplotlibBackend at 0x7b3c0f122300>"
            ]
          },
          "metadata": {},
          "execution_count": 10
        }
      ]
    },
    {
      "cell_type": "code",
      "metadata": {
        "colab": {
          "base_uri": "https://localhost:8080/"
        },
        "id": "8f1a19aa",
        "outputId": "a5fd4970-94da-481f-9fef-692aa130fd46"
      },
      "source": [
        "from sympy import symbols, log, diff, integrate, sqrt\n",
        "\n",
        "x = symbols('x')\n",
        "y = log(x)\n",
        "\n",
        "dy_dx = diff(y, x)\n",
        "print(\"dy/dx:\", dy_dx)\n",
        "\n",
        "integrand = sqrt(1 + dy_dx**2)\n",
        "print(\"Integrand:\", integrand)\n",
        "\n",
        "arc_length = integrate(integrand, (x, 1, 2))\n",
        "print(\"Arc length:\", arc_length)"
      ],
      "execution_count": 12,
      "outputs": [
        {
          "output_type": "stream",
          "name": "stdout",
          "text": [
            "dy/dx: 1/x\n",
            "Integrand: sqrt(1 + x**(-2))\n",
            "Arc length: -sqrt(2) - asinh(1/2) + log(1 + sqrt(2)) + sqrt(5)\n"
          ]
        }
      ]
    }
  ]
}